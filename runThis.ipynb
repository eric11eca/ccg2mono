{
 "cells": [
  {
   "cell_type": "code",
   "execution_count": 1,
   "metadata": {
    "collapsed": false
   },
   "outputs": [
    {
     "data": {
      "text/plain": [
       "<module 'infer' from '/media/hai/G/tools/ccg/ccg2mono/infer.py'>"
      ]
     },
     "execution_count": 1,
     "metadata": {},
     "output_type": "execute_result"
    }
   ],
   "source": [
    "import getMono\n",
    "import infer\n",
    "import importlib\n",
    "import os\n",
    "\n",
    "# must reload every time we changed getMono or infer\n",
    "importlib.reload(getMono)\n",
    "importlib.reload(infer)"
   ]
  },
  {
   "cell_type": "code",
   "execution_count": 15,
   "metadata": {
    "collapsed": false
   },
   "outputs": [
    {
     "data": {
      "text/plain": [
       "0"
      ]
     },
     "execution_count": 15,
     "metadata": {},
     "output_type": "execute_result"
    }
   ],
   "source": [
    "# parse sentences using CandC parser\n",
    "# put your sentences after echo\n",
    "parseCommand = 'echo \"\\\n",
    "Most dogs that are cute chased people that give them bones \\n\\\n",
    "John likes some dogs that are cute \\n\\\n",
    "every young dog that chased some cat liked men that are nice \\n\\\n",
    "young dogs that chased some cat are crazy \\n\\\n",
    "a man who knows how to use phones also knows this \\n\\\n",
    "some old dog that some cat chased is crazy \\n\\\n",
    "Peter is not a dog \\n\\\n",
    "I don\\'t like apples \\n\\\n",
    "He doesn\\'t know this \\n\\\n",
    "\" > testSent ; bash ./candcParse_visualize.sh testSent'\n",
    "os.system(parseCommand)"
   ]
  },
  {
   "cell_type": "code",
   "execution_count": 14,
   "metadata": {
    "collapsed": false
   },
   "outputs": [
    {
     "name": "stdout",
     "output_type": "stream",
     "text": [
      "building tree 0...\n",
      "building tree 1...\n",
      "building tree 2...\n",
      "building tree 3...\n",
      "building tree 4...\n",
      "building tree 5...\n",
      "building tree 6...\n",
      "building tree 7...\n",
      "building tree 8...\n",
      "\n",
      "trees built!\n",
      "\n",
      "\n",
      "Most↑ dogs= that= are= cute= hit= people= that= give= them= bones= \n",
      "John↑ likes↑ some↑ dogs↑ that↑ are↑ cute↑ \n",
      "every↑ young↓ dog↓ that↓ chased↓ some↓ cat↓ liked↑ men↑ that↑ are↑ nice↑ \n",
      "young↑ dogs↑ that↑ chased↑ some↑ cat↑ are↑ crazy↑ \n",
      "a↑ man↑ who↑ knows↑ how↑ to= use= phones= also= knows↑ this↑ \n",
      "some↑ old↑ dog↑ that↑ some↑ cat↑ chased↑ is↑ crazy↑ \n",
      "Peter↑ is↑ not↑ a↓ dog↓ \n",
      "I↑ do↓ n't↑ like↓ apples↓ \n",
      "He↑ does↓ n't↑ know↓ this↓ \n",
      "\n",
      "-- original sentence:\n",
      "\n",
      "Most↑ dogs= that= are= cute= hit= people= that= give= them= bones= \n",
      "\n",
      "-- 0 inferences in total\n"
     ]
    }
   ],
   "source": [
    "# read in CCG trees\n",
    "trees = getMono.CCGtrees()\n",
    "trees.readCandCxml('tmp.candc.xml')\n",
    "\n",
    "# polarize tree\n",
    "for idx in trees.trees.keys():\n",
    "    tree = trees.trees[idx]\n",
    "    tree.fixTree()\n",
    "    tree.getPM()\n",
    "    tree.polarize()\n",
    "    tree.printSent()\n",
    "\n",
    "t = trees.trees[0]\n",
    "# t.printTree()\n",
    "t.replaceRC()\n",
    "t.printAllInferences()\n"
   ]
  },
  {
   "cell_type": "code",
   "execution_count": 5,
   "metadata": {
    "collapsed": false
   },
   "outputs": [
    {
     "name": "stdout",
     "output_type": "stream",
     "text": [
      "\n",
      "----------------\n",
      "building knowledge...\n",
      "building knowledge from pairs ...\n",
      "\n",
      "...done!\n",
      "\n",
      "building knowledge from sentences4k.txt...\n",
      "parsing...\n",
      "building tree 0...\n",
      "building tree 1...\n",
      "building tree 2...\n",
      "building tree 3...\n",
      "building tree 4...\n",
      "\n",
      "trees built!\n",
      "\n",
      "\n",
      "\n",
      "trees read in from sentences4k.candc.xml!\n",
      "\n",
      "isA relation: John↑ is↑ a↑ cat↑ .↑ \n",
      "\n",
      "isA relation: Jackie↑ is↑ a↑ dog↑ .↑ \n",
      "\n",
      "isA relation: Labradors↑ are↑ dogs↑ .↑ \n",
      "\n",
      "isA relation: Tom↑ Hanks= is↑ a↑ cute↑ cat↑ .↑ \n",
      "\n",
      "isA relation: Jerry↑ is↑ a↑ lion↑ .↑ \n",
      "\n",
      "...done!\n",
      "\n",
      "building knowledge from subsective adjs ...\n",
      "\n",
      "-- all subsective adjs: \n",
      "young\n",
      "old\n",
      "nice\n",
      "good\n",
      "bad\n",
      "\n",
      "-- all nouns:\n",
      "Fido\n",
      "dog\n",
      "cat\n",
      "cats\n",
      "beagle\n",
      "animals\n",
      "apple\n",
      "animal\n",
      "man\n",
      "men\n",
      "lion\n",
      "dogs\n",
      "fruit\n",
      "...done!\n",
      "\n",
      "\n",
      "knowledge built!\n",
      "--------------\n",
      "\n",
      "\n",
      "NOW REPLACEMENT\n",
      "\n",
      "Nothing for replacement\n",
      "\n",
      "we can infer:\n",
      "\n",
      "-- original sentence:\n",
      "\n",
      "Most↑ dogs= that= are= cute= do↓ not↑ bite↓ people↓ \n",
      "\n",
      "-- 0 inferences in total\n"
     ]
    }
   ],
   "source": [
    "# build knowledge\n",
    "k = infer.Knowledge()\n",
    "k.buildAll()\n",
    "\n",
    "# now replacement\n",
    "print('\\nNOW REPLACEMENT\\n')\n",
    "t.replacement(k=k)\n",
    "for i in t.inferences:\n",
    "    i.replacement(k=k)\n",
    "    # for j in i.inferences:\n",
    "    #     j.replacement(k=k)\n",
    "\n",
    "print('\\nwe can infer:')\n",
    "\n",
    "t.printAllInferences()"
   ]
  }
 ],
 "metadata": {
  "anaconda-cloud": {},
  "kernelspec": {
   "display_name": "Python [default]",
   "language": "python",
   "name": "python3"
  },
  "language_info": {
   "codemirror_mode": {
    "name": "ipython",
    "version": 3
   },
   "file_extension": ".py",
   "mimetype": "text/x-python",
   "name": "python",
   "nbconvert_exporter": "python",
   "pygments_lexer": "ipython3",
   "version": "3.5.2"
  }
 },
 "nbformat": 4,
 "nbformat_minor": 1
}
