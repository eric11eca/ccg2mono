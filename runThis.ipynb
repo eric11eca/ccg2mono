{
 "cells": [
  {
   "cell_type": "code",
   "execution_count": 10,
   "metadata": {
    "collapsed": false
   },
   "outputs": [
    {
     "data": {
      "text/plain": [
       "<module 'infer' from '/media/hai/G/tools/ccg/ccg2mono/infer.py'>"
      ]
     },
     "execution_count": 10,
     "metadata": {},
     "output_type": "execute_result"
    }
   ],
   "source": [
    "import getMono\n",
    "import infer\n",
    "import importlib\n",
    "import os\n",
    "\n",
    "# must reload every time we changed getMono or infer\n",
    "importlib.reload(getMono)\n",
    "importlib.reload(infer)"
   ]
  },
  {
   "cell_type": "code",
   "execution_count": 20,
   "metadata": {
    "collapsed": false
   },
   "outputs": [
    {
     "data": {
      "text/plain": [
       "0"
      ]
     },
     "execution_count": 20,
     "metadata": {},
     "output_type": "execute_result"
    }
   ],
   "source": [
    "# parse sentences using CandC parser\n",
    "# put your sentences after echo\n",
    "parseCommand = 'echo \"\\\n",
    "every dog hit some cat\\n\\\n",
    "Peter is not a dog.\\n\\\n",
    "I don\\'t like apples.\\n\\\n",
    "He doesn\\'t know this.\\n\\\n",
    "\" > testSent ; bash ./candcParse_visualize.sh testSent'\n",
    "os.system(parseCommand)"
   ]
  },
  {
   "cell_type": "code",
   "execution_count": 22,
   "metadata": {
    "collapsed": false
   },
   "outputs": [
    {
     "name": "stdout",
     "output_type": "stream",
     "text": [
      "building tree 0...\n",
      "building tree 1...\n",
      "building tree 2...\n",
      "building tree 3...\n",
      "\n",
      "trees built!\n",
      "\n",
      "\n",
      "every↑ dog↓ hit↑ some↑ cat↑ \n",
      "Peter↑ is↑ not↑ a↓ dog↓ .↑ \n",
      "I↑ do↓ n't↑ like↓ apples↓ .↑ \n",
      "He↑ does↓ n't↑ know↓ this↓ .↑ \n"
     ]
    }
   ],
   "source": [
    "# read in CCG trees\n",
    "trees = getMono.CCGtrees()\n",
    "trees.readCandCxml('tmp.candc.xml')\n",
    "\n",
    "# polarize tree\n",
    "for idx in trees.trees.keys():\n",
    "    tree = trees.trees[idx]\n",
    "    tree.getPM()\n",
    "    tree.polarize()\n",
    "    tree.printSent()\n",
    "\n",
    "t = trees.trees[0]"
   ]
  },
  {
   "cell_type": "code",
   "execution_count": 13,
   "metadata": {
    "collapsed": false
   },
   "outputs": [
    {
     "name": "stdout",
     "output_type": "stream",
     "text": [
      "\n",
      "----------------\n",
      "building knowledge...\n",
      "building knowledge from pairs ...\n",
      "\n",
      "...done!\n",
      "\n",
      "building knowledge from sentences4k.txt...\n",
      "parsing...\n",
      "building tree 0...\n",
      "building tree 1...\n",
      "building tree 2...\n",
      "building tree 3...\n",
      "building tree 4...\n",
      "\n",
      "trees built!\n",
      "\n",
      "\n",
      "\n",
      "trees read in from sentences4k.candc.xml!\n",
      "\n",
      "...done!\n",
      "\n",
      "building knowledge from subsective adjs ...\n",
      "\n",
      "-- all subsective adjs: \n",
      "young\n",
      "old\n",
      "nice\n",
      "good\n",
      "bad\n",
      "\n",
      "-- all nouns:\n",
      "animals\n",
      "men\n",
      "Fido\n",
      "beagle\n",
      "apple\n",
      "cat\n",
      "fruit\n",
      "dogs\n",
      "animal\n",
      "man\n",
      "cats\n",
      "dog\n",
      "lion\n",
      "...done!\n",
      "\n",
      "\n",
      "knowledge built!\n",
      "--------------\n",
      "\n",
      "\n",
      "NOW REPLACEMENT\n",
      "\n",
      "\n",
      "we can infer:\n",
      "\n",
      "*1* replacements:\n",
      "\n",
      "some↑ dog↑ hit↑ some↑ cat↑ \n",
      "\n",
      "*1* replacements:\n",
      "\n",
      "every↑ beagle↓ hit↑ some↑ cat↑ \n",
      "\n",
      "*1* replacements:\n",
      "\n",
      "every↑ young↓ dog↓ hit↑ some↑ cat↑ \n",
      "\n",
      "*1* replacements:\n",
      "\n",
      "every↑ old↓ dog↓ hit↑ some↑ cat↑ \n",
      "\n",
      "*1* replacements:\n",
      "\n",
      "every↑ nice↓ dog↓ hit↑ some↑ cat↑ \n",
      "\n",
      "*1* replacements:\n",
      "\n",
      "every↑ good↓ dog↓ hit↑ some↑ cat↑ \n",
      "\n",
      "*1* replacements:\n",
      "\n",
      "every↑ bad↓ dog↓ hit↑ some↑ cat↑ \n",
      "\n",
      "*1* replacements:\n",
      "\n",
      "every↑ dog↓ touched↑ some↑ cat↑ \n",
      "\n",
      "*1* replacements:\n",
      "\n",
      "every↑ dog↓ hit↑ some↑ animal↑ \n",
      "\n",
      "*1* replacements:\n",
      "\n",
      "Jackie↑ hit↑ some↑ cat↑ \n",
      "\n",
      "*1* replacements:\n",
      "\n",
      "some↑ dog↑ hit↑ some↑ cat↑ \n",
      "11 inferences in total\n"
     ]
    }
   ],
   "source": [
    "# build knowledge\n",
    "k = infer.Knowledge()\n",
    "k.buildAll()\n",
    "\n",
    "# now replacement\n",
    "print('\\nNOW REPLACEMENT\\n')\n",
    "t.replacement(k=k)\n",
    "# for i in t.inferences:\n",
    "#     i.replacement(k=k)\n",
    "    # for j in i.inferences:\n",
    "    #     j.replacement(k=k)\n",
    "\n",
    "print('\\nwe can infer:')\n",
    "\n",
    "t.printAllInferences()"
   ]
  }
 ],
 "metadata": {
  "anaconda-cloud": {},
  "kernelspec": {
   "display_name": "Python [default]",
   "language": "python",
   "name": "python3"
  },
  "language_info": {
   "codemirror_mode": {
    "name": "ipython",
    "version": 3
   },
   "file_extension": ".py",
   "mimetype": "text/x-python",
   "name": "python",
   "nbconvert_exporter": "python",
   "pygments_lexer": "ipython3",
   "version": "3.5.2"
  }
 },
 "nbformat": 4,
 "nbformat_minor": 1
}
